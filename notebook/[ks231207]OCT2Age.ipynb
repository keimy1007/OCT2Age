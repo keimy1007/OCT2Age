{
 "cells": [
  {
   "cell_type": "markdown",
   "id": "be979736",
   "metadata": {},
   "source": [
    "目的：OCT2Ageモデルを開発し、年齢予測に寄与するグリッドを可視化する"
   ]
  },
  {
   "attachments": {},
   "cell_type": "markdown",
   "id": "2851aea2",
   "metadata": {
    "ExecuteTime": {
     "end_time": "2023-03-06T07:22:56.095576Z",
     "start_time": "2023-03-06T07:22:54.040805Z"
    }
   },
   "source": [
    "# Libraries"
   ]
  },
  {
   "cell_type": "code",
   "execution_count": 1,
   "id": "96b3d5a2",
   "metadata": {
    "ExecuteTime": {
     "end_time": "2023-04-24T07:56:50.987020Z",
     "start_time": "2023-04-24T07:56:49.251039Z"
    }
   },
   "outputs": [
    {
     "name": "stdout",
     "output_type": "stream",
     "text": [
      "/Users/keimy/notebooks/OCT_hitachi\n"
     ]
    }
   ],
   "source": [
    "import numpy as np\n",
    "from numpy import linalg as LA\n",
    "import pandas as pd; pd.set_option('display.max_columns', None)\n",
    "\n",
    "import scipy as sp\n",
    "from scipy import stats\n",
    "import statsmodels.api as sm\n",
    "import statsmodels.formula.api as smf\n",
    "\n",
    "import matplotlib.pyplot as plt\n",
    "from matplotlib.pyplot import figure\n",
    "import matplotlib.cm as cm\n",
    "%matplotlib inline\n",
    "import seaborn as sns\n",
    "sns.set()\n",
    "%precision 3\n",
    "\n",
    "# utility\n",
    "import sys\n",
    "import time\n",
    "import copy as cp\n",
    "from tqdm import tqdm\n",
    "from collections import defaultdict\n",
    "import pickle\n",
    "import openpyxl as px\n",
    "import xlrd\n",
    "from functools import reduce\n",
    "\n",
    "# 乱数\n",
    "rng = np.random.RandomState(1234)\n",
    "random_state = 42\n",
    "\n",
    "\n",
    "# ローカルライブラリ\n",
    "%cd /users/keimy/notebooks/OCT_hitachi\n",
    "import src.archetypes as arch"
   ]
  },
  {
   "attachments": {},
   "cell_type": "markdown",
   "id": "969a77c3",
   "metadata": {},
   "source": [
    "# Check Data"
   ]
  },
  {
   "cell_type": "code",
   "execution_count": 2,
   "id": "8da58b2e",
   "metadata": {},
   "outputs": [
    {
     "data": {
      "text/plain": [
       "((7666, 430), (7666, 215))"
      ]
     },
     "execution_count": 2,
     "metadata": {},
     "output_type": "execute_result"
    }
   ],
   "source": [
    "from src.preprocess import make_datasets_in_2016\n",
    "\n",
    "df_cpRNFL, OCT_cpRNFL = make_datasets_in_2016(filenames=[\"cpRNFL2016.csv\"], ROI=\"cpRNFL\")\n",
    "df_mRNFL, OCT_mRNFL = make_datasets_in_2016(filenames=[\"mRNFL2016.csv\"], ROI=\"mRNFL\")\n",
    "df_mGCLP, OCT_mGCLP = make_datasets_in_2016(filenames=[\"mGCLP2016.csv\"], ROI=\"mGCLP\")\n",
    "\n",
    "dfs = [df_cpRNFL, df_mRNFL, df_mGCLP]\n",
    "df = reduce(lambda left, right: pd.merge(left, right, on=[\"ID\", \"topID\", \"eye\"]), dfs)\n",
    "\n",
    "OCT_dfs = [OCT_cpRNFL, OCT_mRNFL, OCT_mGCLP]\n",
    "OCT_df = reduce(lambda left, right: pd.merge(left, right, on=[\"ID\", \"topID\", \"eye\"]), OCT_dfs)\n",
    "\n",
    "df.shape, OCT_df.shape\n"
   ]
  },
  {
   "cell_type": "code",
   "execution_count": 5,
   "id": "ec40566d",
   "metadata": {},
   "outputs": [
    {
     "name": "stderr",
     "output_type": "stream",
     "text": [
      "/var/folders/2q/37wkg3rj6hb2r8hl9r779vgw0000gn/T/ipykernel_83803/214485458.py:2: DtypeWarning: Columns (86,87,88,89,90,91,92,93,94,95,96,97,98,99,100,101,102,106,110,111,112,113,114,115,116,117,118,119,120,121,122,123,125,126,127,130,133,136,137,138,139,140,141,142,143,144,145,146,147,148,149,150,151,152,153,154,155,156,157,158,159,160,161,162,163,164,165,166,167,168,169,170,171,172,173,174,175,176,177,178,187,188,189,190,191,192,193,194,199,200) have mixed types. Specify dtype option on import or set low_memory=False.\n",
      "  kenshin = pd.read_csv(\"./data_kenshin/2016R2.csv\"); kenshin.drop(index=0, inplace=True)\n"
     ]
    },
    {
     "data": {
      "text/plain": [
       "7666"
      ]
     },
     "execution_count": 5,
     "metadata": {},
     "output_type": "execute_result"
    }
   ],
   "source": [
    "# kenshin = pd.read_csv(\"../data_kenshin/h2016.csv\")\n",
    "kenshin = pd.read_csv(\"./data_kenshin/2016R2.csv\"); kenshin.drop(index=0, inplace=True)\n",
    "kenshin = kenshin.rename(columns={\"kenshinID\": \"ID\" })\n",
    "kenshin = kenshin.reset_index(drop=True)\n",
    "\n",
    "# 日付型のdate変数を作成\n",
    "OCT_df['date'] = pd.to_datetime(OCT_df['topID'].astype(str).str[-8:])\n",
    "kenshin['date'] = pd.to_datetime(kenshin['kenshindate'].astype(str))\n",
    "\n",
    "# IDを文字列型に変換\n",
    "OCT_df['ID'] = OCT_df['ID'].astype(str)\n",
    "kenshin['ID'] = kenshin['ID'].astype(str)\n",
    "\n",
    "\n",
    "# IDとdateを使ってOCTとkenshinをマージ\n",
    "df_comb = pd.merge(OCT_df, kenshin, on=['ID', 'date'], how='left')\n",
    "\n",
    "# 問診項目の変数処理\n",
    "def conversion_to_int(df, filling):\n",
    "    df2 = pd.to_numeric(df, errors='coerce')\n",
    "    df2.fillna(1, inplace=True)  # 例: 0で置換\n",
    "    df2 = df2.astype(np.int64)\n",
    "    return df2\n",
    "\n",
    "df_comb[\"smoking\"] = (conversion_to_int(df_comb[\"mon3x1x1\"], 1) != 1).astype(int)\n",
    "df_comb[\"drinking\"] = (conversion_to_int(df_comb[\"mon3x2x1\"], 0) != 0).astype(int)\n",
    "df_comb[\"exercise\"] = (conversion_to_int(df_comb[\"mon5x4x1\"], 1) != 1).astype(int)\n",
    "\n",
    "df_comb[\"sleep\"] = conversion_to_int(df_comb[\"mon2x2\"], 9)\n",
    "df_comb[\"short_sleep_6\"] = ((df_comb.sleep == 1) | (df_comb.sleep == 2)).astype(int)\n",
    "df_comb[\"short_sleep_5\"] = (df_comb.sleep == 1).astype(int)\n",
    "\n",
    "\n",
    "len(df_comb)"
   ]
  },
  {
   "cell_type": "markdown",
   "id": "d6a6f35d",
   "metadata": {},
   "source": [
    "# OCT2Ageモデル"
   ]
  },
  {
   "cell_type": "code",
   "execution_count": 140,
   "id": "00658898",
   "metadata": {},
   "outputs": [],
   "source": [
    "from src.preprocess import create_scaled_dataloader_per_CV, dataframe_to_tensor\n",
    "\n",
    "def split_dataframe(df):\n",
    "    # X_df は 'ID', 'topID', 'eye', 'date', 'age' を除くすべての列を含む\n",
    "    X_df = df.drop(['ID', 'topID', 'eye', 'date', 'age'], axis=1)\n",
    "\n",
    "    # Y_df は 'age' 列のみを含む\n",
    "    Y_df = df[['age']]\n",
    "\n",
    "    return X_df, Y_df\n",
    "\n",
    "# OCT情報とageだけを残す\n",
    "col_names = OCT_df.columns.tolist() + [\"age\"]\n",
    "XY_df = df_comb[col_names]\n",
    "\n",
    "# X,Yにスプリット\n",
    "X_df, Y_df = split_dataframe(XY_df)\n",
    "\n",
    "# データローダーの作成\n",
    "n_splits = 2\n",
    "batch_size = 64\n",
    "_, _, y_train_CV, y_test_CV, train_loader_CV, test_loader_CV, scaler_age = create_scaled_dataloader_per_CV(X_df, Y_df, n_splits=n_splits, batch_size=batch_size)"
   ]
  },
  {
   "cell_type": "code",
   "execution_count": 145,
   "id": "0eb925bd",
   "metadata": {},
   "outputs": [],
   "source": [
    "import importlib\n",
    "import src.model.OCT2Age\n",
    "\n",
    "# モジュールの再読み込み\n",
    "importlib.reload(src.model.OCT2Age)\n",
    "\n",
    "# モジュールから必要なクラスや関数をインポート\n",
    "from src.model.OCT2Age import NN_OCT2Age, train, valid\n"
   ]
  },
  {
   "cell_type": "code",
   "execution_count": 146,
   "id": "8c31b484",
   "metadata": {},
   "outputs": [
    {
     "name": "stdout",
     "output_type": "stream",
     "text": [
      "Epoch 1/5, Train Loss: 1.027036847670873, Validation Loss: 0.9292663643757503\n",
      "Epoch 2/5, Train Loss: 1.009073908130328, Validation Loss: 0.9265149176120758\n",
      "Epoch 3/5, Train Loss: 1.0066921263933182, Validation Loss: 0.9278150230646134\n",
      "Epoch 4/5, Train Loss: 1.0075403571128845, Validation Loss: 0.9240204075972239\n",
      "Epoch 5/5, Train Loss: 1.0035333742698034, Validation Loss: 0.9237094869216284\n"
     ]
    },
    {
     "data": {
      "image/png": "[encoded data removed]",
      "text/plain": [
       "<Figure size 1000x500 with 1 Axes>"
      ]
     },
     "metadata": {},
     "output_type": "display_data"
    }
   ],
   "source": [
    "import torch\n",
    "import torch.nn as nn\n",
    "import torch.nn.functional as F\n",
    "import torch.optim as optim\n",
    "from src.model.OCT2Age import NN_OCT2Age, train, valid\n",
    "\n",
    "\n",
    "# ハイパラ\n",
    "epochs = 5\n",
    "dropout_rate = 0\n",
    "lr = 0.001\n",
    "\n",
    "# モデルの設定\n",
    "device = torch.device(\"mps\" if torch.backends.mps.is_available() else \"cpu\")\n",
    "device = \"cpu\"\n",
    "model = NN_OCT2Age(input_dim=212, hidden_dims=[10], output_dim=1, dropout_rate=dropout_rate).to(device)\n",
    "optimizer = optim.Adam(model.parameters(), lr=lr)\n",
    "\n",
    "\n",
    "train_losses = []\n",
    "val_losses = []\n",
    "for epoch in range(epochs):\n",
    "    # トレーニング\n",
    "    train_loss = train(model, train_loader_CV[0], optimizer=optimizer, device=device)\n",
    "    train_losses.append(train_loss)\n",
    "\n",
    "    # 検証\n",
    "    val_loss = valid(model, test_loader_CV[0],device=device)\n",
    "    val_losses.append(val_loss)\n",
    "\n",
    "    print(f'Epoch {epoch+1}/{epochs}, Train Loss: {train_loss}, Validation Loss: {val_loss}')\n",
    "\n",
    "# 損失のプロット\n",
    "plt.figure(figsize=(10, 5))\n",
    "plt.plot(train_losses, label='Training Loss')\n",
    "plt.plot(val_losses, label='Validation Loss')\n",
    "plt.title('Training and Validation Loss Over Epochs')\n",
    "plt.xlabel('Epoch')\n",
    "plt.ylabel('Loss')\n",
    "plt.legend()\n",
    "plt.show()\n",
    "\n"
   ]
  },
  {
   "cell_type": "code",
   "execution_count": null,
   "id": "3f63e73a",
   "metadata": {},
   "outputs": [],
   "source": [
    "from sklearn.metrics import mean_absolute_error\n",
    "\n",
    "Y_trues = np.array(Y_trues)\n",
    "Y_preds = np.array(Y_preds)\n",
    "\n",
    "mae = mean_absolute_error(Y_trues, Y_preds)\n",
    "mse = np.mean((Y_trues - Y_preds) ** 2)\n",
    "mae, mse, Y_trues.shape, Y_preds.shape"
   ]
  },
  {
   "cell_type": "code",
   "execution_count": null,
   "id": "843d6fc5",
   "metadata": {},
   "outputs": [],
   "source": [
    "df = pd.DataFrame({\n",
    "    'Y_true': Y_trues,\n",
    "    'Y_pred': Y_preds\n",
    "})\n",
    "\n",
    "# CSVファイルの保存パスを指定\n",
    "csv_file_path = '../outputs/predictions.csv'\n",
    "\n",
    "# DataFrameをCSVファイルに保存\n",
    "df.to_csv(csv_file_path, index=False)\n",
    "\n",
    "# 保存したCSVファイルのパスを出力\n",
    "csv_file_path\n"
   ]
  },
  {
   "cell_type": "code",
   "execution_count": null,
   "id": "67316d9b",
   "metadata": {},
   "outputs": [],
   "source": []
  },
  {
   "cell_type": "code",
   "execution_count": null,
   "id": "2e0c9d55",
   "metadata": {},
   "outputs": [],
   "source": []
  },
  {
   "cell_type": "code",
   "execution_count": null,
   "id": "d0e791a2",
   "metadata": {},
   "outputs": [],
   "source": []
  },
  {
   "cell_type": "code",
   "execution_count": null,
   "id": "292a5c25",
   "metadata": {},
   "outputs": [],
   "source": []
  }
 ],
 "metadata": {
  "kernelspec": {
   "display_name": "Python 3 (ipykernel)",
   "language": "python",
   "name": "python3"
  },
  "language_info": {
   "codemirror_mode": {
    "name": "ipython",
    "version": 3
   },
   "file_extension": ".py",
   "mimetype": "text/x-python",
   "name": "python",
   "nbconvert_exporter": "python",
   "pygments_lexer": "ipython3",
   "version": "3.10.8"
  },
  "toc": {
   "base_numbering": 1,
   "nav_menu": {},
   "number_sections": true,
   "sideBar": true,
   "skip_h1_title": false,
   "title_cell": "Table of Contents",
   "title_sidebar": "Contents",
   "toc_cell": false,
   "toc_position": {
    "height": "calc(100% - 180px)",
    "left": "10px",
    "top": "150px",
    "width": "335.99px"
   },
   "toc_section_display": true,
   "toc_window_display": true
  }
 },
 "nbformat": 4,
 "nbformat_minor": 5
}
