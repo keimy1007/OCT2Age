{
 "cells": [
  {
   "cell_type": "code",
   "execution_count": 1,
   "metadata": {},
   "outputs": [
    {
     "name": "stdout",
     "output_type": "stream",
     "text": [
      "[Errno 2] No such file or directory: 'users/keimy/git/oct2age'\n",
      "/Users/keimy/git/OCT2Age/notebook\n"
     ]
    }
   ],
   "source": [
    "%cd users/keimy/git/oct2age\n",
    "\n",
    "\n",
    "folder_path = \"/Users/keimy/git/oct2age/data_boundary\""
   ]
  },
  {
   "cell_type": "markdown",
   "metadata": {},
   "source": [
    "# check date of kenshin data"
   ]
  },
  {
   "cell_type": "code",
   "execution_count": 30,
   "metadata": {},
   "outputs": [
    {
     "name": "stderr",
     "output_type": "stream",
     "text": [
      "/var/folders/2q/37wkg3rj6hb2r8hl9r779vgw0000gn/T/ipykernel_79052/708554790.py:3: DtypeWarning: Columns (86,87,88,89,90,91,92,93,94,95,96,97,98,99,100,101,102,106,110,111,112,113,114,115,116,117,118,119,120,121,122,123,125,126,127,130,133,136,137,138,139,140,141,142,143,144,145,146,147,148,149,150,151,152,153,154,155,156,157,158,159,160,161,162,163,164,165,166,167,168,169,170,171,172,173,174,175,176,177,178,187,188,189,190,191,192,193,194,199,200) have mixed types. Specify dtype option on import or set low_memory=False.\n",
      "  df2016 = pd.read_csv(\"/Users/keimy/git/oct2age/data_kenshin/2016R2.csv\", skiprows=0)\n",
      "/var/folders/2q/37wkg3rj6hb2r8hl9r779vgw0000gn/T/ipykernel_79052/708554790.py:4: DtypeWarning: Columns (177,178,187,188,189,190,191,192,193,194,199,200) have mixed types. Specify dtype option on import or set low_memory=False.\n",
      "  df2017 = pd.read_csv(\"/Users/keimy/git/oct2age/data_kenshin/2017R2.csv\", skiprows=0)\n",
      "/var/folders/2q/37wkg3rj6hb2r8hl9r779vgw0000gn/T/ipykernel_79052/708554790.py:5: DtypeWarning: Columns (86,100,110,139,172,173,174,175,176,177,178,179,180,181,183,184,193,194,195,196,197,198,199,200,205,206) have mixed types. Specify dtype option on import or set low_memory=False.\n",
      "  df2018 = pd.read_csv(\"/Users/keimy/git/oct2age/data_kenshin/2018R2.csv\", skiprows=0)\n"
     ]
    },
    {
     "data": {
      "text/plain": [
       "(20160401, 20190329, '2017/10/10', '2022/7/8')"
      ]
     },
     "execution_count": 30,
     "metadata": {},
     "output_type": "execute_result"
    }
   ],
   "source": [
    "import pandas as pd\n",
    "\n",
    "df2016 = pd.read_csv(\"/Users/keimy/git/oct2age/data_kenshin/2016R2.csv\", skiprows=0)\n",
    "df2017 = pd.read_csv(\"/Users/keimy/git/oct2age/data_kenshin/2017R2.csv\", skiprows=0)\n",
    "df2018 = pd.read_csv(\"/Users/keimy/git/oct2age/data_kenshin/2018R2.csv\", skiprows=0)\n",
    "df_msp = pd.read_csv(\"/Users/keimy/git/oct2age/data_kenshin/msp.csv\", skiprows=0)\n",
    "\n",
    "\n",
    "# df2018から99999999を除外\n",
    "df2018 = df2018[df2018.kenshindate != 99999999]\n",
    "df2016.kenshindate.min(), df2018.kenshindate.max(), df_msp.date.min(), df_msp.date.max()\n"
   ]
  },
  {
   "cell_type": "code",
   "execution_count": 31,
   "metadata": {},
   "outputs": [
    {
     "data": {
      "text/html": [
       "<div>\n",
       "<style scoped>\n",
       "    .dataframe tbody tr th:only-of-type {\n",
       "        vertical-align: middle;\n",
       "    }\n",
       "\n",
       "    .dataframe tbody tr th {\n",
       "        vertical-align: top;\n",
       "    }\n",
       "\n",
       "    .dataframe thead th {\n",
       "        text-align: right;\n",
       "    }\n",
       "</style>\n",
       "<table border=\"1\" class=\"dataframe\">\n",
       "  <thead>\n",
       "    <tr style=\"text-align: right;\">\n",
       "      <th></th>\n",
       "      <th>kenshinID</th>\n",
       "      <th>sex</th>\n",
       "      <th>date</th>\n",
       "      <th>DOB</th>\n",
       "      <th>msp</th>\n",
       "      <th>time</th>\n",
       "      <th>m1</th>\n",
       "      <th>m2</th>\n",
       "      <th>m3</th>\n",
       "      <th>m4</th>\n",
       "      <th>m5</th>\n",
       "    </tr>\n",
       "  </thead>\n",
       "  <tbody>\n",
       "    <tr>\n",
       "      <th>0</th>\n",
       "      <td>8871</td>\n",
       "      <td>男性</td>\n",
       "      <td>2017/3/16</td>\n",
       "      <td>1949/8/24</td>\n",
       "      <td>15</td>\n",
       "      <td>2分</td>\n",
       "      <td>3</td>\n",
       "      <td>4</td>\n",
       "      <td>6</td>\n",
       "      <td>1</td>\n",
       "      <td>1</td>\n",
       "    </tr>\n",
       "  </tbody>\n",
       "</table>\n",
       "</div>"
      ],
      "text/plain": [
       "   kenshinID sex       date        DOB  msp time  m1  m2  m3  m4  m5\n",
       "0       8871  男性  2017/3/16  1949/8/24   15   2分   3   4   6   1   1"
      ]
     },
     "execution_count": 31,
     "metadata": {},
     "output_type": "execute_result"
    }
   ],
   "source": [
    "df_msp.head(1)"
   ]
  },
  {
   "cell_type": "code",
   "execution_count": null,
   "metadata": {},
   "outputs": [],
   "source": []
  },
  {
   "cell_type": "code",
   "execution_count": null,
   "metadata": {},
   "outputs": [],
   "source": []
  },
  {
   "cell_type": "code",
   "execution_count": null,
   "metadata": {},
   "outputs": [],
   "source": []
  }
 ],
 "metadata": {
  "kernelspec": {
   "display_name": "torch",
   "language": "python",
   "name": "python3"
  },
  "language_info": {
   "codemirror_mode": {
    "name": "ipython",
    "version": 3
   },
   "file_extension": ".py",
   "mimetype": "text/x-python",
   "name": "python",
   "nbconvert_exporter": "python",
   "pygments_lexer": "ipython3",
   "version": "3.10.8"
  },
  "orig_nbformat": 4
 },
 "nbformat": 4,
 "nbformat_minor": 2
}
